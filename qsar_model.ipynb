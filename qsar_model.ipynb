{
 "cells": [
  {
   "cell_type": "markdown",
   "id": "b3ac230d",
   "metadata": {},
   "source": [
    "# 🧪 Simple QSAR Model with PyTorch\n",
    "This notebook trains a simple neural network to predict molecular activity from SMILES strings using Morgan fingerprints."
   ]
  },
  {
   "cell_type": "code",
   "execution_count": null,
   "id": "2bea7c89",
   "metadata": {},
   "outputs": [],
   "source": [
    "import pandas as pd\n",
    "import torch\n",
    "import torch.nn as nn\n",
    "import torch.nn.functional as F\n",
    "from torch.utils.data import Dataset, DataLoader\n",
    "from rdkit import Chem\n",
    "from rdkit.Chem import AllChem\n",
    "from sklearn.model_selection import train_test_split\n",
    "from sklearn.metrics import accuracy_score"
   ]
  },
  {
   "cell_type": "markdown",
   "id": "0c787762",
   "metadata": {},
   "source": [
    "## Load Dataset"
   ]
  },
  {
   "cell_type": "code",
   "execution_count": null,
   "id": "bba207bd",
   "metadata": {},
   "outputs": [],
   "source": [
    "df = pd.read_csv(\"data/sample_molecules.csv\")\n",
    "df.head()"
   ]
  },
  {
   "cell_type": "markdown",
   "id": "0a261347",
   "metadata": {},
   "source": [
    "## Convert SMILES to Fingerprints"
   ]
  },
  {
   "cell_type": "code",
   "execution_count": null,
   "id": "bc5a2c06",
   "metadata": {},
   "outputs": [],
   "source": [
    "def smiles_to_fp(smiles, radius=2, n_bits=2048):\n",
    "    mol = Chem.MolFromSmiles(smiles)\n",
    "    if mol:\n",
    "        return AllChem.GetMorganFingerprintAsBitVect(mol, radius, nBits=n_bits)\n",
    "    else:\n",
    "        return None\n",
    "\n",
    "fps = []\n",
    "labels = []\n",
    "for i, row in df.iterrows():\n",
    "    fp = smiles_to_fp(row['smiles'])\n",
    "    if fp:\n",
    "        arr = torch.tensor(list(fp), dtype=torch.float32)\n",
    "        fps.append(arr)\n",
    "        labels.append(torch.tensor(row['label'], dtype=torch.float32))\n",
    "\n",
    "X = torch.stack(fps)\n",
    "y = torch.stack(labels)"
   ]
  },
  {
   "cell_type": "markdown",
   "id": "7d638a08",
   "metadata": {},
   "source": [
    "##️ Train-Test Split"
   ]
  },
  {
   "cell_type": "code",
   "execution_count": null,
   "id": "4f7ded29",
   "metadata": {},
   "outputs": [],
   "source": [
    "X_train, X_test, y_train, y_test = train_test_split(X, y, test_size=0.2, random_state=42)"
   ]
  },
  {
   "cell_type": "markdown",
   "id": "fba097b5",
   "metadata": {},
   "source": [
    "## Create Dataset and DataLoader"
   ]
  },
  {
   "cell_type": "code",
   "execution_count": null,
   "id": "0561383e",
   "metadata": {},
   "outputs": [],
   "source": [
    "class MolDataset(Dataset):\n",
    "    def __init__(self, X, y):\n",
    "        self.X = X\n",
    "        self.y = y\n",
    "    def __len__(self):\n",
    "        return len(self.X)\n",
    "    def __getitem__(self, idx):\n",
    "        return self.X[idx], self.y[idx]\n",
    "\n",
    "train_loader = DataLoader(MolDataset(X_train, y_train), batch_size=4, shuffle=True)\n",
    "test_loader = DataLoader(MolDataset(X_test, y_test), batch_size=4)"
   ]
  },
  {
   "cell_type": "markdown",
   "id": "e14075b1",
   "metadata": {},
   "source": [
    "## Build the Neural Network"
   ]
  },
  {
   "cell_type": "code",
   "execution_count": null,
   "id": "61829d9e",
   "metadata": {},
   "outputs": [],
   "source": [
    "class QSARModel(nn.Module):\n",
    "    def __init__(self, input_dim):\n",
    "        super().__init__()\n",
    "        self.fc1 = nn.Linear(input_dim, 128)\n",
    "        self.fc2 = nn.Linear(128, 64)\n",
    "        self.out = nn.Linear(64, 1)\n",
    "    def forward(self, x):\n",
    "        x = F.relu(self.fc1(x))\n",
    "        x = F.relu(self.fc2(x))\n",
    "        return torch.sigmoid(self.out(x)).squeeze()\n",
    "\n",
    "model = QSARModel(2048)\n",
    "optimizer = torch.optim.Adam(model.parameters(), lr=0.001)\n",
    "loss_fn = nn.BCELoss()"
   ]
  },
  {
   "cell_type": "markdown",
   "id": "8adad8b0",
   "metadata": {},
   "source": [
    "##️ Train the Model"
   ]
  },
  {
   "cell_type": "code",
   "execution_count": null,
   "id": "8c04e75c",
   "metadata": {},
   "outputs": [],
   "source": [
    "for epoch in range(10):\n",
    "    model.train()\n",
    "    for xb, yb in train_loader:\n",
    "        preds = model(xb)\n",
    "        loss = loss_fn(preds, yb)\n",
    "        optimizer.zero_grad()\n",
    "        loss.backward()\n",
    "        optimizer.step()\n",
    "    print(f\"Epoch {epoch+1}, Loss: {loss.item():.4f}\")"
   ]
  },
  {
   "cell_type": "markdown",
   "id": "ad808944",
   "metadata": {},
   "source": [
    "## Evaluate the Model"
   ]
  },
  {
   "cell_type": "code",
   "execution_count": null,
   "id": "3a52cd8a",
   "metadata": {},
   "outputs": [],
   "source": [
    "model.eval()\n",
    "with torch.no_grad():\n",
    "    preds = []\n",
    "    actual = []\n",
    "    for xb, yb in test_loader:\n",
    "        out = model(xb)\n",
    "        preds += list((out > 0.5).float())\n",
    "        actual += list(yb)\n",
    "    acc = accuracy_score(actual, preds)\n",
    "    print(f\"Test Accuracy: {acc:.2f}\")"
   ]
  }
 ],
 "metadata": {},
 "nbformat": 4,
 "nbformat_minor": 5
}
